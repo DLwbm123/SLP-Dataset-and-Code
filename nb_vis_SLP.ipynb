{
 "cells": [
  {
   "cell_type": "code",
   "execution_count": 1,
   "metadata": {
    "pycharm": {
     "is_executing": false
    }
   },
   "outputs": [],
   "source": [
    "'''\n",
    "For SLP visualization.\n",
    "1. using sio to show depth map scatter plot for heatmp\n",
    "'''\n",
    "from data.SLP_RD import SLP_RD\n",
    "import opt\n",
    "# import skimage.io as skio\n",
    "import numpy as np\n",
    "import matplotlib.pyplot as plt\n",
    "from mpl_toolkits.mplot3d import Axes3D\n",
    "# import trimesh as tm\n",
    "from utils import vis"
   ]
  },
  {
   "cell_type": "code",
   "execution_count": 2,
   "metadata": {
    "pycharm": {
     "is_executing": false,
     "name": "#%%\n"
    }
   },
   "outputs": [
    {
     "name": "stderr",
     "output_type": "stream",
     "text": [
      "initializing SLP: 100%|██████████████████████████████████████████████████████████████| 102/102 [00:08<00:00, 12.34it/s]\n"
     ]
    }
   ],
   "source": [
    "opts = opt.parseArgs()\n",
    "SLP_rd = SLP_RD(opts, phase='test')\n",
    "\n",
    "idx = 0\n",
    "arr, jt, bb =  SLP_rd.get_array_joints(idx_smpl=idx)\n",
    "ptc = SLP_rd.get_ptc(idx=idx)   # all pixel\n",
    "\n",
    "arr_IR2depth = SLP_rd.get_array_A2B(idx=idx, modA='IR', modB='depthRaw')\n",
    "arr_PM2depth = SLP_rd.get_array_A2B(idx=idx, modA='PM', modB='depthRaw')"
   ]
  },
  {
   "cell_type": "code",
   "execution_count": 3,
   "metadata": {
    "pycharm": {
     "is_executing": false,
     "name": "#%%\n"
    }
   },
   "outputs": [],
   "source": [
    "# matplotlib plotting, very slow\n",
    "# fig = plt.figure(figsize=(15,10))\n",
    "# ax = plt.axes(projection='3d')\n",
    "#\n",
    "# STEP = 1\n",
    "# for x in range(0, arr.shape[0], STEP):\n",
    "#     for y in range(0, arr.shape[1], STEP):\n",
    "#         ax.scatter(\n",
    "#             arr[x,y], y, x)\n",
    "#              # c=[tuple(img[x, y, :3]/255)], s=3)    # for color\n",
    "#     ax.view_init(15, 165)"
   ]
  },
  {
   "cell_type": "code",
   "execution_count": 4,
   "metadata": {
    "pycharm": {
     "is_executing": false,
     "name": "#%%\n"
    }
   },
   "outputs": [],
   "source": [
    "# test trimesh\n",
    "# ptc_tm = tm.points.PointCloud(ptc)\n",
    "# ptc_tm.show()"
   ]
  },
  {
   "cell_type": "code",
   "execution_count": 5,
   "metadata": {
    "pycharm": {
     "is_executing": false,
     "name": "#%%\n"
    }
   },
   "outputs": [],
   "source": [
    "# test the plotly  \n",
    "eye = [1.0, -1.25, 0.7]\n",
    "vis.vis_IR_D_PM(arr, arr_IR2depth, arr_PM2depth, eye=eye, pth='tmp/haha.png')"
   ]
  },
  {
   "cell_type": "code",
   "execution_count": null,
   "metadata": {
    "pycharm": {
     "name": "#%%\n"
    }
   },
   "outputs": [],
   "source": [
    "# jupyter functional test \n",
    "# import plotly.graph_objects as go\n",
    "fig = go.Figure(data=go.Bar(y=[2, 3, 1]))\n",
    "fig.show()\n",
    "\n"
   ]
  }
 ],
 "metadata": {
  "kernelspec": {
   "display_name": "Python 3",
   "language": "python",
   "name": "python3"
  },
  "language_info": {
   "codemirror_mode": {
    "name": "ipython",
    "version": 3
   },
   "file_extension": ".py",
   "mimetype": "text/x-python",
   "name": "python",
   "nbconvert_exporter": "python",
   "pygments_lexer": "ipython3",
   "version": "3.7.5"
  },
  "pycharm": {
   "stem_cell": {
    "cell_type": "raw",
    "metadata": {
     "collapsed": false
    },
    "source": []
   }
  }
 },
 "nbformat": 4,
 "nbformat_minor": 1
}